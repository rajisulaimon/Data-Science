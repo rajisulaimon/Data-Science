{
 "cells": [
  {
   "cell_type": "markdown",
   "id": "724b43da",
   "metadata": {},
   "source": [
    "# Import import libraries"
   ]
  },
  {
   "cell_type": "code",
   "execution_count": 28,
   "id": "a8d601c1",
   "metadata": {},
   "outputs": [
    {
     "data": {
      "text/plain": [
       "True"
      ]
     },
     "execution_count": 28,
     "metadata": {},
     "output_type": "execute_result"
    }
   ],
   "source": [
    "import psycopg2\n",
    "from dotenv import load_dotenv\n",
    "import os\n",
    "import urllib.parse as up\n",
    "load_dotenv()"
   ]
  },
  {
   "cell_type": "code",
   "execution_count": 34,
   "id": "adecc49b",
   "metadata": {},
   "outputs": [
    {
     "name": "stdout",
     "output_type": "stream",
     "text": [
      "Table Created Succesffully\n"
     ]
    }
   ],
   "source": [
    "DB_NAME = os.getenv('NAME')\n",
    "DB_USER = os.getenv('USER_DB')\n",
    "DB_PASS = os.getenv('PASS')\n",
    "DB_HOST = os.getenv('HOST')\n",
    "DB_PORT = os.getenv('PORT')\n",
    "\n",
    "\n",
    "conn = psycopg2.connect(database = DB_NAME,\n",
    "                        user=DB_USER,\n",
    "                        host=DB_HOST,\n",
    "                        password=DB_PASS,\n",
    "                        port=DB_PORT)\n",
    "cur = conn.cursor()\n",
    "cur.execute('DROP TABLE IF EXISTS Grades')\n",
    "conn.commit()\n",
    "\n",
    "\n",
    "print('Table Created Succesffully')\n"
   ]
  },
  {
   "cell_type": "code",
   "execution_count": 35,
   "id": "9d03afaa",
   "metadata": {},
   "outputs": [
    {
     "name": "stdout",
     "output_type": "stream",
     "text": [
      "Table Created Sucessfully\n"
     ]
    }
   ],
   "source": [
    "cur = conn.cursor()\n",
    "cur.execute('DROP TABLE IF EXISTS Grades')\n",
    "conn.commit()\n",
    "\n",
    "cur.execute(\"\"\"\n",
    "            CREATE TABLE Grades(\n",
    "            Student_id FLOAT PRIMARY KEY NOT NULL,\n",
    "            SCORE TEXT,\n",
    "            CLASS_ID FLOAT\n",
    "            )\n",
    "                       \n",
    "\"\"\")\n",
    "conn.commit()\n",
    "print('Table Created Sucessfully')\n"
   ]
  },
  {
   "cell_type": "code",
   "execution_count": null,
   "id": "3f09a587",
   "metadata": {},
   "outputs": [],
   "source": []
  },
  {
   "cell_type": "code",
   "execution_count": 37,
   "id": "d23171e1",
   "metadata": {},
   "outputs": [
    {
     "ename": "InFailedSqlTransaction",
     "evalue": "current transaction is aborted, commands ignored until end of transaction block\n",
     "output_type": "error",
     "traceback": [
      "\u001b[1;31m---------------------------------------------------------------------------\u001b[0m",
      "\u001b[1;31mInFailedSqlTransaction\u001b[0m                    Traceback (most recent call last)",
      "\u001b[1;32m~\\AppData\\Local\\Temp\\ipykernel_15420\\3386774713.py\u001b[0m in \u001b[0;36m<module>\u001b[1;34m\u001b[0m\n\u001b[0;32m      1\u001b[0m \u001b[1;32mwith\u001b[0m \u001b[0mopen\u001b[0m\u001b[1;33m(\u001b[0m\u001b[1;34m'grades.csv'\u001b[0m\u001b[1;33m)\u001b[0m \u001b[1;32mas\u001b[0m \u001b[0mcsvFile\u001b[0m\u001b[1;33m:\u001b[0m\u001b[1;33m\u001b[0m\u001b[1;33m\u001b[0m\u001b[0m\n\u001b[0;32m      2\u001b[0m    \u001b[0mnext\u001b[0m\u001b[1;33m(\u001b[0m\u001b[0mcsvFile\u001b[0m\u001b[1;33m)\u001b[0m \u001b[1;31m# SKIP HEADERS\u001b[0m\u001b[1;33m\u001b[0m\u001b[1;33m\u001b[0m\u001b[0m\n\u001b[1;32m----> 3\u001b[1;33m    \u001b[0mcur\u001b[0m\u001b[1;33m.\u001b[0m\u001b[0mcopy_from\u001b[0m\u001b[1;33m(\u001b[0m\u001b[0mcsvFile\u001b[0m\u001b[1;33m,\u001b[0m \u001b[1;34m\"Grades\"\u001b[0m\u001b[1;33m,\u001b[0m \u001b[0msep\u001b[0m\u001b[1;33m=\u001b[0m\u001b[1;34m','\u001b[0m\u001b[1;33m)\u001b[0m\u001b[1;33m\u001b[0m\u001b[1;33m\u001b[0m\u001b[0m\n\u001b[0m\u001b[0;32m      4\u001b[0m \u001b[1;33m\u001b[0m\u001b[0m\n\u001b[0;32m      5\u001b[0m    \u001b[1;31m# POSTGRES COPY COMMAND FOR CSV MODE\u001b[0m\u001b[1;33m\u001b[0m\u001b[1;33m\u001b[0m\u001b[0m\n",
      "\u001b[1;31mInFailedSqlTransaction\u001b[0m: current transaction is aborted, commands ignored until end of transaction block\n"
     ]
    }
   ],
   "source": [
    "with open('grades.csv') as csvFile:\n",
    "   next(csvFile) # SKIP HEADERS\n",
    "   cur.copy_from(csvFile, \"Grades\", sep=',')\n",
    "\n",
    "   # POSTGRES COPY COMMAND FOR CSV MODE\n",
    "   #cur.copy_expert(\"\"\"COPY \"Grades\" FROM STDIN WITH CSV\"\"\", csvFile)\n",
    "   conn.commit()"
   ]
  },
  {
   "cell_type": "code",
   "execution_count": null,
   "id": "445d1dc6",
   "metadata": {},
   "outputs": [],
   "source": []
  },
  {
   "cell_type": "code",
   "execution_count": null,
   "id": "760fd02e",
   "metadata": {},
   "outputs": [],
   "source": []
  }
 ],
 "metadata": {
  "kernelspec": {
   "display_name": "Python 3 (ipykernel)",
   "language": "python",
   "name": "python3"
  },
  "language_info": {
   "codemirror_mode": {
    "name": "ipython",
    "version": 3
   },
   "file_extension": ".py",
   "mimetype": "text/x-python",
   "name": "python",
   "nbconvert_exporter": "python",
   "pygments_lexer": "ipython3",
   "version": "3.9.13"
  }
 },
 "nbformat": 4,
 "nbformat_minor": 5
}
