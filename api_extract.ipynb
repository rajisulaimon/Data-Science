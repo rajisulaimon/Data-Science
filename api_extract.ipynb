{
 "cells": [
  {
   "cell_type": "markdown",
   "metadata": {},
   "source": [
    "### Import Iibraries "
   ]
  },
  {
   "cell_type": "code",
   "execution_count": 15,
   "metadata": {},
   "outputs": [],
   "source": [
    "import requests\n",
    "import json\n",
    "import pandas as pd"
   ]
  },
  {
   "cell_type": "markdown",
   "metadata": {},
   "source": [
    "#### Extract character from ap1"
   ]
  },
  {
   "cell_type": "code",
   "execution_count": 34,
   "metadata": {},
   "outputs": [],
   "source": [
    "baseurl = 'https://rickandmortyapi.com/api/'\n",
    "endpoint = 'character'\n",
    "\n",
    "\n",
    "def main_request(baseurl,endpoint,x):\n",
    "    c = requests.get(baseurl + endpoint+ f'?page={x}')\n",
    "    return c.json()"
   ]
  },
  {
   "cell_type": "code",
   "execution_count": 68,
   "metadata": {},
   "outputs": [],
   "source": [
    "char = get_data(baseurl,endpoint,1)"
   ]
  },
  {
   "cell_type": "markdown",
   "metadata": {},
   "source": [
    "Print the values "
   ]
  },
  {
   "cell_type": "code",
   "execution_count": 38,
   "metadata": {},
   "outputs": [
    {
     "name": "stdout",
     "output_type": "stream",
     "text": [
      "{'info': {'count': 826, 'pages': 42, 'next': 'https://rickandmortyapi.com/api/character?page=2', 'prev': None}, 'results': [{'id': 1, 'name': 'Rick Sanchez', 'status': 'Alive', 'species': 'Human', 'type': '', 'gender': 'Male', 'origin': {'name': 'Earth (C-137)', 'url': 'https://rickandmortyapi.com/api/location/1'}, 'location': {'name': 'Citadel of Ricks', 'url': 'https://rickandmortyapi.com/api/location/3'}, 'image': 'https://rickandmortyapi.com/api/character/avatar/1.jpeg', 'episode': ['https://rickandmortyapi.com/api/episode/1', 'https://rickandmortyapi.com/api/episode/2', 'https://rickandmortyapi.com/api/episode/3', 'https://rickandmortyapi.com/api/episode/4', 'https://rickandmortyapi.com/api/episode/5', 'https://rickandmortyapi.com/api/episode/6', 'https://rickandmortyapi.com/api/episode/7', 'https://rickandmortyapi.com/api/episode/8', 'https://rickandmortyapi.com/api/episode/9', 'https://rickandmortyapi.com/api/episode/10', 'https://rickandmortyapi.com/api/episode/11', 'https://rickandmortyapi.com/api/episode/12', 'https://rickandmortyapi.com/api/episode/13', 'https://rickandmortyapi.com/api/episode/14', 'https://rickandmortyapi.com/api/episode/15', 'https://rickandmortyapi.com/api/episode/16', 'https://rickandmortyapi.com/api/episode/17', 'https://rickandmortyapi.com/api/episode/18', 'https://rickandmortyapi.com/api/episode/19', 'https://rickandmortyapi.com/api/episode/20', 'https://rickandmortyapi.com/api/episode/21', 'https://rickandmortyapi.com/api/episode/22', 'https://rickandmortyapi.com/api/episode/23', 'https://rickandmortyapi.com/api/episode/24', 'https://rickandmortyapi.com/api/episode/25', 'https://rickandmortyapi.com/api/episode/26', 'https://rickandmortyapi.com/api/episode/27', 'https://rickandmortyapi.com/api/episode/28', 'https://rickandmortyapi.com/api/episode/29', 'https://rickandmortyapi.com/api/episode/30', 'https://rickandmortyapi.com/api/episode/31', 'https://rickandmortyapi.com/api/episode/32', 'https://rickandmortyapi.com/api/episode/33', 'https://rickandmortyapi.com/api/episode/34', 'https://rickandmortyapi.com/api/episode/35', 'https://rickandmortyapi.com/api/episode/36', 'https://rickandmortyapi.com/api/episode/37', 'https://rickandmortyapi.com/api/episode/38', 'https://rickandmortyapi.com/api/episode/39', 'https://rickandmortyapi.com/api/episode/40', 'https://rickandmortyapi.com/api/episode/41', 'https://rickandmortyapi.com/api/episode/42', 'https://rickandmortyapi.com/api/episode/43', 'https://rickandmortyapi.com/api/episode/44', 'https://rickandmortyapi.com/api/episode/45', 'https://rickandmortyapi.com/api/episode/46', 'https://rickandmortyapi.com/api/episode/47', 'https://rickandmortyapi.com/api/episode/48', 'https://rickandmortyapi.com/api/episode/49', 'https://rickandmortyapi.com/api/episode/50', 'https://rickandmortyapi.com/api/episode/51'], 'url': 'https://rickandmortyapi.com/api/character/1', 'created': '2017-11-04T18:48:46.250Z'}, {'id': 2, 'name': 'Morty Smith', 'status': 'Alive', 'species': 'Human', 'type': '', 'gender': 'Male', 'origin': {'name': 'unknown', 'url': ''}, 'location': {'name': 'Citadel of Ricks', 'url': 'https://rickandmortyapi.com/api/location/3'}, 'image': 'https://rickandmortyapi.com/api/character/avatar/2.jpeg', 'episode': ['https://rickandmortyapi.com/api/episode/1', 'https://rickandmortyapi.com/api/episode/2', 'https://rickandmortyapi.com/api/episode/3', 'https://rickandmortyapi.com/api/episode/4', 'https://rickandmortyapi.com/api/episode/5', 'https://rickandmortyapi.com/api/episode/6', 'https://rickandmortyapi.com/api/episode/7', 'https://rickandmortyapi.com/api/episode/8', 'https://rickandmortyapi.com/api/episode/9', 'https://rickandmortyapi.com/api/episode/10', 'https://rickandmortyapi.com/api/episode/11', 'https://rickandmortyapi.com/api/episode/12', 'https://rickandmortyapi.com/api/episode/13', 'https://rickandmortyapi.com/api/episode/14', 'https://rickandmortyapi.com/api/episode/15', 'https://rickandmortyapi.com/api/episode/16', 'https://rickandmortyapi.com/api/episode/17', 'https://rickandmortyapi.com/api/episode/18', 'https://rickandmortyapi.com/api/episode/19', 'https://rickandmortyapi.com/api/episode/20', 'https://rickandmortyapi.com/api/episode/21', 'https://rickandmortyapi.com/api/episode/22', 'https://rickandmortyapi.com/api/episode/23', 'https://rickandmortyapi.com/api/episode/24', 'https://rickandmortyapi.com/api/episode/25', 'https://rickandmortyapi.com/api/episode/26', 'https://rickandmortyapi.com/api/episode/27', 'https://rickandmortyapi.com/api/episode/28', 'https://rickandmortyapi.com/api/episode/29', 'https://rickandmortyapi.com/api/episode/30', 'https://rickandmortyapi.com/api/episode/31', 'https://rickandmortyapi.com/api/episode/32', 'https://rickandmortyapi.com/api/episode/33', 'https://rickandmortyapi.com/api/episode/34', 'https://rickandmortyapi.com/api/episode/35', 'https://rickandmortyapi.com/api/episode/36', 'https://rickandmortyapi.com/api/episode/37', 'https://rickandmortyapi.com/api/episode/38', 'https://rickandmortyapi.com/api/episode/39', 'https://rickandmortyapi.com/api/episode/40', 'https://rickandmortyapi.com/api/episode/41', 'https://rickandmortyapi.com/api/episode/42', 'https://rickandmortyapi.com/api/episode/43', 'https://rickandmortyapi.com/api/episode/44', 'https://rickandmortyapi.com/api/episode/45', 'https://rickandmortyapi.com/api/episode/46', 'https://rickandmortyapi.com/api/episode/47', 'https://rickandmortyapi.com/api/episode/48', 'https://rickandmortyapi.com/api/episode/49', 'https://rickandmortyapi.com/api/episode/50', 'https://rickandmortyapi.com/api/episode/51'], 'url': 'https://rickandmortyapi.com/api/character/2', 'created': '2017-11-04T18:50:21.651Z'}, {'id': 3, 'name': 'Summer Smith', 'status': 'Alive', 'species': 'Human', 'type': '', 'gender': 'Female', 'origin': {'name': 'Earth (Replacement Dimension)', 'url': 'https://rickandmortyapi.com/api/location/20'}, 'location': {'name': 'Earth (Replacement Dimension)', 'url': 'https://rickandmortyapi.com/api/location/20'}, 'image': 'https://rickandmortyapi.com/api/character/avatar/3.jpeg', 'episode': ['https://rickandmortyapi.com/api/episode/6', 'https://rickandmortyapi.com/api/episode/7', 'https://rickandmortyapi.com/api/episode/8', 'https://rickandmortyapi.com/api/episode/9', 'https://rickandmortyapi.com/api/episode/10', 'https://rickandmortyapi.com/api/episode/11', 'https://rickandmortyapi.com/api/episode/12', 'https://rickandmortyapi.com/api/episode/14', 'https://rickandmortyapi.com/api/episode/15', 'https://rickandmortyapi.com/api/episode/16', 'https://rickandmortyapi.com/api/episode/17', 'https://rickandmortyapi.com/api/episode/18', 'https://rickandmortyapi.com/api/episode/19', 'https://rickandmortyapi.com/api/episode/20', 'https://rickandmortyapi.com/api/episode/21', 'https://rickandmortyapi.com/api/episode/22', 'https://rickandmortyapi.com/api/episode/23', 'https://rickandmortyapi.com/api/episode/24', 'https://rickandmortyapi.com/api/episode/25', 'https://rickandmortyapi.com/api/episode/26', 'https://rickandmortyapi.com/api/episode/27', 'https://rickandmortyapi.com/api/episode/29', 'https://rickandmortyapi.com/api/episode/30', 'https://rickandmortyapi.com/api/episode/31', 'https://rickandmortyapi.com/api/episode/32', 'https://rickandmortyapi.com/api/episode/33', 'https://rickandmortyapi.com/api/episode/34', 'https://rickandmortyapi.com/api/episode/35', 'https://rickandmortyapi.com/api/episode/36', 'https://rickandmortyapi.com/api/episode/38', 'https://rickandmortyapi.com/api/episode/39', 'https://rickandmortyapi.com/api/episode/40', 'https://rickandmortyapi.com/api/episode/41', 'https://rickandmortyapi.com/api/episode/42', 'https://rickandmortyapi.com/api/episode/43', 'https://rickandmortyapi.com/api/episode/44', 'https://rickandmortyapi.com/api/episode/45', 'https://rickandmortyapi.com/api/episode/46', 'https://rickandmortyapi.com/api/episode/47', 'https://rickandmortyapi.com/api/episode/48', 'https://rickandmortyapi.com/api/episode/49', 'https://rickandmortyapi.com/api/episode/51'], 'url': 'https://rickandmortyapi.com/api/character/3', 'created': '2017-11-04T19:09:56.428Z'}, {'id': 4, 'name': 'Beth Smith', 'status': 'Alive', 'species': 'Human', 'type': '', 'gender': 'Female', 'origin': {'name': 'Earth (Replacement Dimension)', 'url': 'https://rickandmortyapi.com/api/location/20'}, 'location': {'name': 'Earth (Replacement Dimension)', 'url': 'https://rickandmortyapi.com/api/location/20'}, 'image': 'https://rickandmortyapi.com/api/character/avatar/4.jpeg', 'episode': ['https://rickandmortyapi.com/api/episode/6', 'https://rickandmortyapi.com/api/episode/7', 'https://rickandmortyapi.com/api/episode/8', 'https://rickandmortyapi.com/api/episode/9', 'https://rickandmortyapi.com/api/episode/10', 'https://rickandmortyapi.com/api/episode/11', 'https://rickandmortyapi.com/api/episode/12', 'https://rickandmortyapi.com/api/episode/14', 'https://rickandmortyapi.com/api/episode/15', 'https://rickandmortyapi.com/api/episode/16', 'https://rickandmortyapi.com/api/episode/18', 'https://rickandmortyapi.com/api/episode/19', 'https://rickandmortyapi.com/api/episode/20', 'https://rickandmortyapi.com/api/episode/21', 'https://rickandmortyapi.com/api/episode/22', 'https://rickandmortyapi.com/api/episode/23', 'https://rickandmortyapi.com/api/episode/24', 'https://rickandmortyapi.com/api/episode/25', 'https://rickandmortyapi.com/api/episode/26', 'https://rickandmortyapi.com/api/episode/27', 'https://rickandmortyapi.com/api/episode/28', 'https://rickandmortyapi.com/api/episode/29', 'https://rickandmortyapi.com/api/episode/30', 'https://rickandmortyapi.com/api/episode/31', 'https://rickandmortyapi.com/api/episode/32', 'https://rickandmortyapi.com/api/episode/33', 'https://rickandmortyapi.com/api/episode/34', 'https://rickandmortyapi.com/api/episode/35', 'https://rickandmortyapi.com/api/episode/36', 'https://rickandmortyapi.com/api/episode/38', 'https://rickandmortyapi.com/api/episode/39', 'https://rickandmortyapi.com/api/episode/40', 'https://rickandmortyapi.com/api/episode/41', 'https://rickandmortyapi.com/api/episode/42', 'https://rickandmortyapi.com/api/episode/43', 'https://rickandmortyapi.com/api/episode/44', 'https://rickandmortyapi.com/api/episode/45', 'https://rickandmortyapi.com/api/episode/46', 'https://rickandmortyapi.com/api/episode/47', 'https://rickandmortyapi.com/api/episode/48', 'https://rickandmortyapi.com/api/episode/49', 'https://rickandmortyapi.com/api/episode/51'], 'url': 'https://rickandmortyapi.com/api/character/4', 'created': '2017-11-04T19:22:43.665Z'}, {'id': 5, 'name': 'Jerry Smith', 'status': 'Alive', 'species': 'Human', 'type': '', 'gender': 'Male', 'origin': {'name': 'Earth (Replacement Dimension)', 'url': 'https://rickandmortyapi.com/api/location/20'}, 'location': {'name': 'Earth (Replacement Dimension)', 'url': 'https://rickandmortyapi.com/api/location/20'}, 'image': 'https://rickandmortyapi.com/api/character/avatar/5.jpeg', 'episode': ['https://rickandmortyapi.com/api/episode/6', 'https://rickandmortyapi.com/api/episode/7', 'https://rickandmortyapi.com/api/episode/8', 'https://rickandmortyapi.com/api/episode/9', 'https://rickandmortyapi.com/api/episode/10', 'https://rickandmortyapi.com/api/episode/11', 'https://rickandmortyapi.com/api/episode/12', 'https://rickandmortyapi.com/api/episode/13', 'https://rickandmortyapi.com/api/episode/14', 'https://rickandmortyapi.com/api/episode/15', 'https://rickandmortyapi.com/api/episode/16', 'https://rickandmortyapi.com/api/episode/18', 'https://rickandmortyapi.com/api/episode/19', 'https://rickandmortyapi.com/api/episode/20', 'https://rickandmortyapi.com/api/episode/21', 'https://rickandmortyapi.com/api/episode/22', 'https://rickandmortyapi.com/api/episode/23', 'https://rickandmortyapi.com/api/episode/26', 'https://rickandmortyapi.com/api/episode/29', 'https://rickandmortyapi.com/api/episode/30', 'https://rickandmortyapi.com/api/episode/31', 'https://rickandmortyapi.com/api/episode/32', 'https://rickandmortyapi.com/api/episode/33', 'https://rickandmortyapi.com/api/episode/35', 'https://rickandmortyapi.com/api/episode/36', 'https://rickandmortyapi.com/api/episode/38', 'https://rickandmortyapi.com/api/episode/39', 'https://rickandmortyapi.com/api/episode/40', 'https://rickandmortyapi.com/api/episode/41', 'https://rickandmortyapi.com/api/episode/42', 'https://rickandmortyapi.com/api/episode/43', 'https://rickandmortyapi.com/api/episode/44', 'https://rickandmortyapi.com/api/episode/45', 'https://rickandmortyapi.com/api/episode/46', 'https://rickandmortyapi.com/api/episode/47', 'https://rickandmortyapi.com/api/episode/48', 'https://rickandmortyapi.com/api/episode/49', 'https://rickandmortyapi.com/api/episode/50', 'https://rickandmortyapi.com/api/episode/51'], 'url': 'https://rickandmortyapi.com/api/character/5', 'created': '2017-11-04T19:26:56.301Z'}, {'id': 6, 'name': 'Abadango Cluster Princess', 'status': 'Alive', 'species': 'Alien', 'type': '', 'gender': 'Female', 'origin': {'name': 'Abadango', 'url': 'https://rickandmortyapi.com/api/location/2'}, 'location': {'name': 'Abadango', 'url': 'https://rickandmortyapi.com/api/location/2'}, 'image': 'https://rickandmortyapi.com/api/character/avatar/6.jpeg', 'episode': ['https://rickandmortyapi.com/api/episode/27'], 'url': 'https://rickandmortyapi.com/api/character/6', 'created': '2017-11-04T19:50:28.250Z'}, {'id': 7, 'name': 'Abradolf Lincler', 'status': 'unknown', 'species': 'Human', 'type': 'Genetic experiment', 'gender': 'Male', 'origin': {'name': 'Earth (Replacement Dimension)', 'url': 'https://rickandmortyapi.com/api/location/20'}, 'location': {'name': 'Testicle Monster Dimension', 'url': 'https://rickandmortyapi.com/api/location/21'}, 'image': 'https://rickandmortyapi.com/api/character/avatar/7.jpeg', 'episode': ['https://rickandmortyapi.com/api/episode/10', 'https://rickandmortyapi.com/api/episode/11'], 'url': 'https://rickandmortyapi.com/api/character/7', 'created': '2017-11-04T19:59:20.523Z'}, {'id': 8, 'name': 'Adjudicator Rick', 'status': 'Dead', 'species': 'Human', 'type': '', 'gender': 'Male', 'origin': {'name': 'unknown', 'url': ''}, 'location': {'name': 'Citadel of Ricks', 'url': 'https://rickandmortyapi.com/api/location/3'}, 'image': 'https://rickandmortyapi.com/api/character/avatar/8.jpeg', 'episode': ['https://rickandmortyapi.com/api/episode/28'], 'url': 'https://rickandmortyapi.com/api/character/8', 'created': '2017-11-04T20:03:34.737Z'}, {'id': 9, 'name': 'Agency Director', 'status': 'Dead', 'species': 'Human', 'type': '', 'gender': 'Male', 'origin': {'name': 'Earth (Replacement Dimension)', 'url': 'https://rickandmortyapi.com/api/location/20'}, 'location': {'name': 'Earth (Replacement Dimension)', 'url': 'https://rickandmortyapi.com/api/location/20'}, 'image': 'https://rickandmortyapi.com/api/character/avatar/9.jpeg', 'episode': ['https://rickandmortyapi.com/api/episode/24'], 'url': 'https://rickandmortyapi.com/api/character/9', 'created': '2017-11-04T20:06:54.976Z'}, {'id': 10, 'name': 'Alan Rails', 'status': 'Dead', 'species': 'Human', 'type': 'Superhuman (Ghost trains summoner)', 'gender': 'Male', 'origin': {'name': 'unknown', 'url': ''}, 'location': {'name': \"Worldender's lair\", 'url': 'https://rickandmortyapi.com/api/location/4'}, 'image': 'https://rickandmortyapi.com/api/character/avatar/10.jpeg', 'episode': ['https://rickandmortyapi.com/api/episode/25'], 'url': 'https://rickandmortyapi.com/api/character/10', 'created': '2017-11-04T20:19:09.017Z'}, {'id': 11, 'name': 'Albert Einstein', 'status': 'Dead', 'species': 'Human', 'type': '', 'gender': 'Male', 'origin': {'name': 'Earth (C-137)', 'url': 'https://rickandmortyapi.com/api/location/1'}, 'location': {'name': 'Earth (Replacement Dimension)', 'url': 'https://rickandmortyapi.com/api/location/20'}, 'image': 'https://rickandmortyapi.com/api/character/avatar/11.jpeg', 'episode': ['https://rickandmortyapi.com/api/episode/12'], 'url': 'https://rickandmortyapi.com/api/character/11', 'created': '2017-11-04T20:20:20.965Z'}, {'id': 12, 'name': 'Alexander', 'status': 'Dead', 'species': 'Human', 'type': '', 'gender': 'Male', 'origin': {'name': 'Earth (C-137)', 'url': 'https://rickandmortyapi.com/api/location/1'}, 'location': {'name': 'Anatomy Park', 'url': 'https://rickandmortyapi.com/api/location/5'}, 'image': 'https://rickandmortyapi.com/api/character/avatar/12.jpeg', 'episode': ['https://rickandmortyapi.com/api/episode/3'], 'url': 'https://rickandmortyapi.com/api/character/12', 'created': '2017-11-04T20:32:33.144Z'}, {'id': 13, 'name': 'Alien Googah', 'status': 'unknown', 'species': 'Alien', 'type': '', 'gender': 'unknown', 'origin': {'name': 'unknown', 'url': ''}, 'location': {'name': 'Earth (Replacement Dimension)', 'url': 'https://rickandmortyapi.com/api/location/20'}, 'image': 'https://rickandmortyapi.com/api/character/avatar/13.jpeg', 'episode': ['https://rickandmortyapi.com/api/episode/31'], 'url': 'https://rickandmortyapi.com/api/character/13', 'created': '2017-11-04T20:33:30.779Z'}, {'id': 14, 'name': 'Alien Morty', 'status': 'unknown', 'species': 'Alien', 'type': '', 'gender': 'Male', 'origin': {'name': 'unknown', 'url': ''}, 'location': {'name': 'Citadel of Ricks', 'url': 'https://rickandmortyapi.com/api/location/3'}, 'image': 'https://rickandmortyapi.com/api/character/avatar/14.jpeg', 'episode': ['https://rickandmortyapi.com/api/episode/10'], 'url': 'https://rickandmortyapi.com/api/character/14', 'created': '2017-11-04T20:51:31.373Z'}, {'id': 15, 'name': 'Alien Rick', 'status': 'unknown', 'species': 'Alien', 'type': '', 'gender': 'Male', 'origin': {'name': 'unknown', 'url': ''}, 'location': {'name': 'Citadel of Ricks', 'url': 'https://rickandmortyapi.com/api/location/3'}, 'image': 'https://rickandmortyapi.com/api/character/avatar/15.jpeg', 'episode': ['https://rickandmortyapi.com/api/episode/10'], 'url': 'https://rickandmortyapi.com/api/character/15', 'created': '2017-11-04T20:56:13.215Z'}, {'id': 16, 'name': 'Amish Cyborg', 'status': 'Dead', 'species': 'Alien', 'type': 'Parasite', 'gender': 'Male', 'origin': {'name': 'unknown', 'url': ''}, 'location': {'name': 'Earth (Replacement Dimension)', 'url': 'https://rickandmortyapi.com/api/location/20'}, 'image': 'https://rickandmortyapi.com/api/character/avatar/16.jpeg', 'episode': ['https://rickandmortyapi.com/api/episode/15'], 'url': 'https://rickandmortyapi.com/api/character/16', 'created': '2017-11-04T21:12:45.235Z'}, {'id': 17, 'name': 'Annie', 'status': 'Alive', 'species': 'Human', 'type': '', 'gender': 'Female', 'origin': {'name': 'Earth (C-137)', 'url': 'https://rickandmortyapi.com/api/location/1'}, 'location': {'name': 'Anatomy Park', 'url': 'https://rickandmortyapi.com/api/location/5'}, 'image': 'https://rickandmortyapi.com/api/character/avatar/17.jpeg', 'episode': ['https://rickandmortyapi.com/api/episode/3'], 'url': 'https://rickandmortyapi.com/api/character/17', 'created': '2017-11-04T22:21:24.481Z'}, {'id': 18, 'name': 'Antenna Morty', 'status': 'Alive', 'species': 'Human', 'type': 'Human with antennae', 'gender': 'Male', 'origin': {'name': 'unknown', 'url': ''}, 'location': {'name': 'Citadel of Ricks', 'url': 'https://rickandmortyapi.com/api/location/3'}, 'image': 'https://rickandmortyapi.com/api/character/avatar/18.jpeg', 'episode': ['https://rickandmortyapi.com/api/episode/10', 'https://rickandmortyapi.com/api/episode/28'], 'url': 'https://rickandmortyapi.com/api/character/18', 'created': '2017-11-04T22:25:29.008Z'}, {'id': 19, 'name': 'Antenna Rick', 'status': 'unknown', 'species': 'Human', 'type': 'Human with antennae', 'gender': 'Male', 'origin': {'name': 'unknown', 'url': ''}, 'location': {'name': 'unknown', 'url': ''}, 'image': 'https://rickandmortyapi.com/api/character/avatar/19.jpeg', 'episode': ['https://rickandmortyapi.com/api/episode/10'], 'url': 'https://rickandmortyapi.com/api/character/19', 'created': '2017-11-04T22:28:13.756Z'}, {'id': 20, 'name': 'Ants in my Eyes Johnson', 'status': 'unknown', 'species': 'Human', 'type': 'Human with ants in his eyes', 'gender': 'Male', 'origin': {'name': 'unknown', 'url': ''}, 'location': {'name': 'Interdimensional Cable', 'url': 'https://rickandmortyapi.com/api/location/6'}, 'image': 'https://rickandmortyapi.com/api/character/avatar/20.jpeg', 'episode': ['https://rickandmortyapi.com/api/episode/8'], 'url': 'https://rickandmortyapi.com/api/character/20', 'created': '2017-11-04T22:34:53.659Z'}]}\n"
     ]
    }
   ],
   "source": [
    "print(char)"
   ]
  },
  {
   "cell_type": "code",
   "execution_count": 47,
   "metadata": {},
   "outputs": [],
   "source": [
    "# Get the number of pages \n",
    "def get_page(response):\n",
    "    pages = response['info']['pages']\n",
    "    return pages"
   ]
  },
  {
   "cell_type": "code",
   "execution_count": 42,
   "metadata": {},
   "outputs": [],
   "source": [
    "def char_list(resonse):\n",
    "    char_list = []\n",
    "    for item in resonse['results']:\n",
    "        data = {\n",
    "            'id':item['id'],\n",
    "            'name':item['name'],\n",
    "            'status':item['status'],\n",
    "            'species':item['species'],\n",
    "            'gender':item['gender'],\n",
    "            'episode':len(item['episode'])\n",
    "               }\n",
    "        char_list.append(data)\n",
    "    return char_list"
   ]
  },
  {
   "cell_type": "code",
   "execution_count": 55,
   "metadata": {},
   "outputs": [],
   "source": [
    "makelist = []\n",
    "data = main_request(baseurl=baseurl,endpoint=endpoint,x=1)\n",
    "for i in range(1,get_page(data)+1):\n",
    "    makelist.extend(char_list(main_request(baseurl=baseurl,endpoint=endpoint,x=i)))\n",
    "    "
   ]
  },
  {
   "cell_type": "code",
   "execution_count": 58,
   "metadata": {},
   "outputs": [],
   "source": [
    "char_df =pd.DataFrame(makelist)"
   ]
  },
  {
   "cell_type": "code",
   "execution_count": 59,
   "metadata": {},
   "outputs": [
    {
     "name": "stdout",
     "output_type": "stream",
     "text": [
      "<class 'pandas.core.frame.DataFrame'>\n",
      "RangeIndex: 826 entries, 0 to 825\n",
      "Data columns (total 6 columns):\n",
      " #   Column   Non-Null Count  Dtype \n",
      "---  ------   --------------  ----- \n",
      " 0   id       826 non-null    int64 \n",
      " 1   name     826 non-null    object\n",
      " 2   status   826 non-null    object\n",
      " 3   species  826 non-null    object\n",
      " 4   gender   826 non-null    object\n",
      " 5   episode  826 non-null    int64 \n",
      "dtypes: int64(2), object(4)\n",
      "memory usage: 38.8+ KB\n"
     ]
    }
   ],
   "source": [
    "char_df.info()"
   ]
  },
  {
   "cell_type": "code",
   "execution_count": 60,
   "metadata": {},
   "outputs": [],
   "source": [
    "char_df.to_csv('character.csv',index=False,encoding='utf-8')"
   ]
  },
  {
   "cell_type": "markdown",
   "metadata": {},
   "source": [
    "Export location data"
   ]
  },
  {
   "cell_type": "code",
   "execution_count": 77,
   "metadata": {},
   "outputs": [],
   "source": [
    "baseurl='https://rickandmortyapi.com/api/'\n",
    "location = 'location'\n",
    "''"
   ]
  },
  {
   "cell_type": "code",
   "execution_count": 79,
   "metadata": {},
   "outputs": [],
   "source": [
    "loc_data = main_request(baseurl=baseurl,endpoint=location,x=1)"
   ]
  },
  {
   "cell_type": "code",
   "execution_count": 89,
   "metadata": {},
   "outputs": [],
   "source": [
    "def loc_list(response):\n",
    "    loc = []\n",
    "    for x in response['results']:\n",
    "        loca = {\n",
    "            'id': x['id'],\n",
    "            'name':x['name'],\n",
    "            'dimension':x['dimension'],\n",
    "            'num_of_resident': len(x['residents'])         \n",
    "        }\n",
    "        loc.append(loca)\n",
    "    return loc"
   ]
  },
  {
   "cell_type": "code",
   "execution_count": 90,
   "metadata": {},
   "outputs": [
    {
     "data": {
      "text/plain": [
       "[{'id': 1,\n",
       "  'name': 'Earth (C-137)',\n",
       "  'dimension': 'Dimension C-137',\n",
       "  'num_of_resident': 27},\n",
       " {'id': 2, 'name': 'Abadango', 'dimension': 'unknown', 'num_of_resident': 1},\n",
       " {'id': 3,\n",
       "  'name': 'Citadel of Ricks',\n",
       "  'dimension': 'unknown',\n",
       "  'num_of_resident': 101},\n",
       " {'id': 4,\n",
       "  'name': \"Worldender's lair\",\n",
       "  'dimension': 'unknown',\n",
       "  'num_of_resident': 9},\n",
       " {'id': 5,\n",
       "  'name': 'Anatomy Park',\n",
       "  'dimension': 'Dimension C-137',\n",
       "  'num_of_resident': 11},\n",
       " {'id': 6,\n",
       "  'name': 'Interdimensional Cable',\n",
       "  'dimension': 'unknown',\n",
       "  'num_of_resident': 62},\n",
       " {'id': 7,\n",
       "  'name': 'Immortality Field Resort',\n",
       "  'dimension': 'unknown',\n",
       "  'num_of_resident': 3},\n",
       " {'id': 8,\n",
       "  'name': 'Post-Apocalyptic Earth',\n",
       "  'dimension': 'Post-Apocalyptic Dimension',\n",
       "  'num_of_resident': 10},\n",
       " {'id': 9,\n",
       "  'name': 'Purge Planet',\n",
       "  'dimension': 'Replacement Dimension',\n",
       "  'num_of_resident': 4},\n",
       " {'id': 10,\n",
       "  'name': 'Venzenulon 7',\n",
       "  'dimension': 'unknown',\n",
       "  'num_of_resident': 1},\n",
       " {'id': 11, 'name': 'Bepis 9', 'dimension': 'unknown', 'num_of_resident': 1},\n",
       " {'id': 12,\n",
       "  'name': 'Cronenberg Earth',\n",
       "  'dimension': 'Cronenberg Dimension',\n",
       "  'num_of_resident': 0},\n",
       " {'id': 13, 'name': 'Nuptia 4', 'dimension': 'unknown', 'num_of_resident': 11},\n",
       " {'id': 14,\n",
       "  'name': \"Giant's Town\",\n",
       "  'dimension': 'Fantasy Dimension',\n",
       "  'num_of_resident': 3},\n",
       " {'id': 15,\n",
       "  'name': 'Bird World',\n",
       "  'dimension': 'unknown',\n",
       "  'num_of_resident': 0},\n",
       " {'id': 16,\n",
       "  'name': 'St. Gloopy Noops Hospital',\n",
       "  'dimension': 'unknown',\n",
       "  'num_of_resident': 9},\n",
       " {'id': 17,\n",
       "  'name': 'Earth (5-126)',\n",
       "  'dimension': 'Dimension 5-126',\n",
       "  'num_of_resident': 0},\n",
       " {'id': 18,\n",
       "  'name': \"Mr. Goldenfold's dream\",\n",
       "  'dimension': 'Dimension C-137',\n",
       "  'num_of_resident': 8},\n",
       " {'id': 19,\n",
       "  'name': 'Gromflom Prime',\n",
       "  'dimension': 'Replacement Dimension',\n",
       "  'num_of_resident': 0},\n",
       " {'id': 20,\n",
       "  'name': 'Earth (Replacement Dimension)',\n",
       "  'dimension': 'Replacement Dimension',\n",
       "  'num_of_resident': 230}]"
      ]
     },
     "execution_count": 90,
     "metadata": {},
     "output_type": "execute_result"
    }
   ],
   "source": [
    "loc_list(loc_data)"
   ]
  },
  {
   "cell_type": "code",
   "execution_count": 92,
   "metadata": {},
   "outputs": [
    {
     "data": {
      "text/plain": [
       "7"
      ]
     },
     "execution_count": 92,
     "metadata": {},
     "output_type": "execute_result"
    }
   ],
   "source": [
    "location_page = get_page(response=loc_data)\n",
    "location_page"
   ]
  },
  {
   "cell_type": "code",
   "execution_count": 95,
   "metadata": {},
   "outputs": [],
   "source": [
    "locations = main_request(baseurl=baseurl,endpoint=location,x=1)\n",
    "location_list =[]\n",
    "for i in range(1,get_page(loc_data)+1):\n",
    "    list =loc_list(response=(main_request(baseurl=baseurl,endpoint=location,x=i)))\n",
    "    location_list.extend(list)"
   ]
  },
  {
   "cell_type": "code",
   "execution_count": 97,
   "metadata": {},
   "outputs": [],
   "source": [
    "# Import location to Dataframe\n",
    "loc_df =pd.DataFrame(location_list)"
   ]
  },
  {
   "cell_type": "code",
   "execution_count": 98,
   "metadata": {},
   "outputs": [],
   "source": [
    "# convert to csv file \n",
    "loc_df.to_csv('locations.csv',index=False,encoding='utf-8')"
   ]
  },
  {
   "cell_type": "code",
   "execution_count": 162,
   "metadata": {},
   "outputs": [],
   "source": [
    "# Extract the episode data\n",
    "baseurl = 'https://rickandmortyapi.com/api/'\n",
    "episode='episode'\n",
    "\n",
    "episod = main_request(baseurl=baseurl,endpoint=episode,x=1)"
   ]
  },
  {
   "cell_type": "code",
   "execution_count": 163,
   "metadata": {},
   "outputs": [
    {
     "data": {
      "text/plain": [
       "3"
      ]
     },
     "execution_count": 163,
     "metadata": {},
     "output_type": "execute_result"
    }
   ],
   "source": [
    "get_page(response=episod)"
   ]
  },
  {
   "cell_type": "code",
   "execution_count": 164,
   "metadata": {},
   "outputs": [],
   "source": [
    "def epi_list(epis):\n",
    "    epi = []\n",
    "    for e in epis['results']:\n",
    "        episo = {\n",
    "            'id': e['id'],\n",
    "            'name': e['name'],\n",
    "            'air-date':e['air_date'],\n",
    "            'episode':e['episode'],\n",
    "            'character':len(e['characters'])\n",
    "        }\n",
    "        epis = epi.append(episo)\n",
    "    return epi"
   ]
  },
  {
   "cell_type": "code",
   "execution_count": 167,
   "metadata": {},
   "outputs": [],
   "source": [
    "episode_list = []\n",
    "epi_ls = main_request(baseurl=baseurl,endpoint=episode,x=1)\n",
    "for e in range(1,get_page(response=episod)+1):\n",
    "    episode_data = epi_list(main_request(baseurl=baseurl,endpoint=episode,x=e))\n",
    "    episode_list.extend(episode_data)"
   ]
  },
  {
   "cell_type": "code",
   "execution_count": 169,
   "metadata": {},
   "outputs": [],
   "source": [
    "epi_df =pd.DataFrame(episode_list)"
   ]
  },
  {
   "cell_type": "code",
   "execution_count": 170,
   "metadata": {},
   "outputs": [],
   "source": [
    "epi_df.to_csv('episode.csv',index=False,encoding='utf-8')"
   ]
  },
  {
   "cell_type": "code",
   "execution_count": 193,
   "metadata": {},
   "outputs": [],
   "source": [
    "from requests.auth import HTTPBasicAuth"
   ]
  },
  {
   "cell_type": "code",
   "execution_count": null,
   "metadata": {},
   "outputs": [],
   "source": []
  },
  {
   "cell_type": "code",
   "execution_count": 208,
   "metadata": {},
   "outputs": [
    {
     "data": {
      "text/plain": [
       "{'cod': 401,\n",
       " 'message': 'Please note that using One Call 3.0 requires a separate subscription to the One Call by Call plan. Learn more here https://openweathermap.org/price. If you have a valid subscription to the One Call by Call plan, but still receive this error, then please see https://openweathermap.org/faq#error401 for more info.'}"
      ]
     },
     "execution_count": 208,
     "metadata": {},
     "output_type": "execute_result"
    }
   ],
   "source": [
    "requests.get('https://api.openweathermap.org/data/3.0/onecall?lat=33.44&lon=-94.04&appid={5eb6916073934d7ff37738377258993e}').json()"
   ]
  },
  {
   "cell_type": "code",
   "execution_count": 201,
   "metadata": {},
   "outputs": [
    {
     "data": {
      "text/plain": [
       "<Response [401]>"
      ]
     },
     "execution_count": 201,
     "metadata": {},
     "output_type": "execute_result"
    }
   ],
   "source": [
    "requests.get('https://api.openweathermap.org/data/3.0/onecall/timemachine?lat=39.099724&lon=-94.578331&dt=1643803200&appid={5eb6916073934d7ff37738377258993e}')"
   ]
  },
  {
   "cell_type": "code",
   "execution_count": 205,
   "metadata": {},
   "outputs": [
    {
     "data": {
      "text/plain": [
       "{'cod': 401,\n",
       " 'message': 'Please note that using One Call 3.0 requires a separate subscription to the One Call by Call plan. Learn more here https://openweathermap.org/price. If you have a valid subscription to the One Call by Call plan, but still receive this error, then please see https://openweathermap.org/faq#error401 for more info.'}"
      ]
     },
     "execution_count": 205,
     "metadata": {},
     "output_type": "execute_result"
    }
   ],
   "source": [
    "requests.get('https://api.openweathermap.org/data/3.0/onecall/timemachine?lat=39.099724&lon=-94.578331&dt=1643803200&appid={5eb6916073934d7ff37738377258993e}').json()"
   ]
  },
  {
   "cell_type": "code",
   "execution_count": null,
   "metadata": {},
   "outputs": [],
   "source": []
  },
  {
   "cell_type": "code",
   "execution_count": null,
   "metadata": {},
   "outputs": [],
   "source": []
  },
  {
   "cell_type": "code",
   "execution_count": null,
   "metadata": {},
   "outputs": [],
   "source": []
  },
  {
   "cell_type": "code",
   "execution_count": null,
   "metadata": {},
   "outputs": [],
   "source": []
  },
  {
   "cell_type": "code",
   "execution_count": null,
   "metadata": {},
   "outputs": [],
   "source": []
  },
  {
   "cell_type": "code",
   "execution_count": null,
   "metadata": {},
   "outputs": [],
   "source": []
  },
  {
   "cell_type": "code",
   "execution_count": null,
   "metadata": {},
   "outputs": [],
   "source": []
  },
  {
   "cell_type": "code",
   "execution_count": null,
   "metadata": {},
   "outputs": [],
   "source": []
  },
  {
   "cell_type": "code",
   "execution_count": null,
   "metadata": {},
   "outputs": [],
   "source": []
  },
  {
   "cell_type": "code",
   "execution_count": null,
   "metadata": {},
   "outputs": [],
   "source": []
  },
  {
   "cell_type": "code",
   "execution_count": null,
   "metadata": {},
   "outputs": [],
   "source": []
  },
  {
   "cell_type": "code",
   "execution_count": null,
   "metadata": {},
   "outputs": [],
   "source": []
  },
  {
   "cell_type": "code",
   "execution_count": null,
   "metadata": {},
   "outputs": [],
   "source": []
  },
  {
   "cell_type": "code",
   "execution_count": null,
   "metadata": {},
   "outputs": [],
   "source": []
  },
  {
   "cell_type": "code",
   "execution_count": null,
   "metadata": {},
   "outputs": [],
   "source": [
    " m/''"
   ]
  }
 ],
 "metadata": {
  "kernelspec": {
   "display_name": "base",
   "language": "python",
   "name": "python3"
  },
  "language_info": {
   "codemirror_mode": {
    "name": "ipython",
    "version": 3
   },
   "file_extension": ".py",
   "mimetype": "text/x-python",
   "name": "python",
   "nbconvert_exporter": "python",
   "pygments_lexer": "ipython3",
   "version": "3.9.13"
  }
 },
 "nbformat": 4,
 "nbformat_minor": 2
}
